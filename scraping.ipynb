{
 "cells": [
  {
   "cell_type": "code",
   "execution_count": null,
   "id": "c6bfd871-93e9-4146-bb46-97b54a7190a2",
   "metadata": {},
   "outputs": [],
   "source": [
    "import requests\n",
    "from bs4 import BeautifulSoup\n",
    "import pandas as pd\n",
    "import time"
   ]
  },
  {
   "cell_type": "code",
   "execution_count": null,
   "id": "e17b60c3",
   "metadata": {},
   "outputs": [],
   "source": [
    "# CONSTANTS\n",
    "DELAY = 3\n",
    "SEASON_RANGE = list(range(2022, 2020, -1))\n",
    "COMP = \"Premier-League\" # IMPORTANTE (A URL ABAIXO ESTÁ DINAMICAMENTE PEGANDO ESSA CONSTANTE)\n",
    "URL = f\"https://fbref.com/en/comps/9/{COMP}-Stats\" # URL constante (usada como base) da premier league, alterar para o Brasileirão, se necessário"
   ]
  },
  {
   "cell_type": "code",
   "execution_count": null,
   "id": "9cd91fcb-43bd-426a-bea0-8fbf5f0c1aa2",
   "metadata": {},
   "outputs": [],
   "source": [
    "url = URL # url não constante, pois será alterada ao longo do fluxo"
   ]
  },
  {
   "cell_type": "markdown",
   "id": "d208482b",
   "metadata": {},
   "source": [
    "**VAMOS CAPTURAR AS TABELAS GERAIS DE JOGADORES E TIMES** "
   ]
  },
  {
   "cell_type": "markdown",
   "id": "ae27cb45",
   "metadata": {},
   "source": [
    "*1 - CAPTURANDO A TABELA DE INFORMAÇÕES GERAIS DOS JOGADORES (Standard Stats)*"
   ]
  },
  {
   "cell_type": "code",
   "execution_count": null,
   "id": "09e4700b",
   "metadata": {},
   "outputs": [],
   "source": [
    "teams_players_data_table = []\n",
    "\n",
    "for year in SEASON_RANGE:\n",
    "    data = requests.get(url) # Faz um request em toda a url\n",
    "    soup = BeautifulSoup(data.text) # Retorna o texto html do retorno\n",
    "    table = soup.select('table.stats_table')[0] # Coletamos a primeira tabela\n",
    " \n",
    "    links = table.find_all('a') # Capturamos todas as ancoras presentes nessa tabela\n",
    "    links = [l.get(\"href\") for l in links] # Capturamos somente os links\n",
    "    links = [l for l in links if '/squads/' in l] # Pegamos somente os links que possui \"/SQUADS/\" no meio, pois como capturamos todas as ancoras na tabela, tem outros links irrelevantes presentes\n",
    "    team_urls = [f\"https://fbref.com{l}\" for l in links] # Criamos uma lista com os links já estruturados para cada time\n",
    "    \n",
    "    previous_season = soup.select(\"#meta > div:nth-child(2) > div\")[0].find('a').get(\"href\") # Capturamos o link da season anterior\n",
    "    url = f\"https://fbref.com{previous_season}\" # Capturamos o link da season anterior\n",
    "    \n",
    "    # Obtém os dados da página de cada time\n",
    "    for team_url in team_urls:\n",
    "        response = requests.get(team_url)\n",
    "\n",
    "        try:\n",
    "            # Extrai os dados da tabela \"Standard Stats\" em forma de dataframe\n",
    "            team_player_data = pd.read_html(response.text, match=\"Standard Stats\")[0]\n",
    "            team_player_data.columns = team_player_data.columns.droplevel() # Dropamos a primeira coluna\n",
    "        \n",
    "            team_name = team_url.split(\"/\")[-1].replace(\"-Stats\", \"\").replace(\"-\", \" \") # Pegamos o nome do time através da url\n",
    "            \n",
    "            # Criações de features (Colunas)\n",
    "            team_player_data[\"Season\"] = year\n",
    "            team_player_data[\"Team\"] = team_name\n",
    "            team_player_data[\"Comp\"] = COMP\n",
    "\n",
    "            # Adiciona os dados à lista de resultados\n",
    "            teams_players_data_table.append(team_player_data)\n",
    "\n",
    "        except Exception as e:\n",
    "            print(f\"\"\"A solicitação para {team_url} falhou.\n",
    "                  Erro: {e} \\n\n",
    "                  código de status: {response.status_code}\"\"\")\n",
    "            \n",
    "        time.sleep(DELAY)"
   ]
  },
  {
   "cell_type": "markdown",
   "id": "8a439c58",
   "metadata": {},
   "source": [
    "*2 - CAPTURANDO A TABELA DE INFORMAÇÃO GERAL DOS TIMES (Scores and Fixtures)*"
   ]
  },
  {
   "cell_type": "code",
   "execution_count": null,
   "id": "0aa14041",
   "metadata": {},
   "outputs": [],
   "source": [
    "teams_data_table = []\n",
    "\n",
    "for year in SEASON_RANGE:\n",
    "    data = requests.get(url)\n",
    "    soup = BeautifulSoup(data.text)\n",
    "    table = soup.select('table.stats_table')[0]\n",
    "\n",
    "    links = [l.get(\"href\") for l in table.find_all('a')]\n",
    "    links = [l for l in links if '/squads/' in l]\n",
    "    team_urls = [f\"https://fbref.com{l}\" for l in links]\n",
    "    \n",
    "    previous_season = soup.select(\"#meta > div:nth-child(2) > div\")[0].find('a').get(\"href\")\n",
    "    url = f\"https://fbref.com{previous_season}\"\n",
    "    \n",
    "    # Obtém os dados da página de cada time\n",
    "    for team_url in team_urls:\n",
    "        response = requests.get(team_url)\n",
    "\n",
    "        # Verifica se a solicitação foi bem-sucedida\n",
    "        try:\n",
    "            # Extrai os dados da segunda tabela \"Scores and Fixtures\" em forma de dataframe\n",
    "            team_data = pd.read_html(response.text, match=\"Scores & Fixtures\")[0]\n",
    "        \n",
    "            team_name = team_url.split(\"/\")[-1].replace(\"-Stats\", \"\").replace(\"-\", \" \") # Pegamos o nome do time através da url\n",
    "\n",
    "            # Criações de features (colunas)\n",
    "            team_data[\"Season\"] = year\n",
    "            team_data[\"Team\"] = team_name\n",
    "            team_data[\"Comp\"] = COMP\n",
    "\n",
    "            # Adiciona os dados à lista \"teams_data_table\"\n",
    "            teams_data_table.append(team_data)\n",
    "\n",
    "        except Exception as e:\n",
    "            print(f\"\"\"A solicitação para {team_url} falhou.\n",
    "                  Erro: {e} \\n\n",
    "                  código de status: {response.status_code}\"\"\")\n",
    "            \n",
    "        time.sleep(DELAY)"
   ]
  },
  {
   "cell_type": "markdown",
   "id": "cac6e9f5",
   "metadata": {},
   "source": [
    "***PARA VISUALIZAR AS TABELAS***"
   ]
  },
  {
   "cell_type": "code",
   "execution_count": null,
   "id": "7f584523",
   "metadata": {},
   "outputs": [],
   "source": [
    "teams_players_data_table[0].head() #Visualização do primeiro elemento"
   ]
  },
  {
   "cell_type": "code",
   "execution_count": null,
   "id": "7d0bfe3e",
   "metadata": {},
   "outputs": [],
   "source": [
    "teams_data_table[0].head() #Visualização do primeiro elemento"
   ]
  }
 ],
 "metadata": {
  "kernelspec": {
   "display_name": "Python 3 (ipykernel)",
   "language": "python",
   "name": "python3"
  },
  "language_info": {
   "codemirror_mode": {
    "name": "ipython",
    "version": 3
   },
   "file_extension": ".py",
   "mimetype": "text/x-python",
   "name": "python",
   "nbconvert_exporter": "python",
   "pygments_lexer": "ipython3",
   "version": "3.12.0"
  }
 },
 "nbformat": 4,
 "nbformat_minor": 5
}
