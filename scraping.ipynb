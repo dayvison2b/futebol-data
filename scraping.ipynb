{
 "cells": [
  {
   "cell_type": "code",
   "execution_count": 1,
   "id": "c6bfd871-93e9-4146-bb46-97b54a7190a2",
   "metadata": {},
   "outputs": [],
   "source": [
    "import requests\n",
    "from bs4 import BeautifulSoup\n",
    "import pandas as pd\n",
    "import time\n",
    "import warnings\n",
    "import hashlib\n",
    "\n",
    "# Suprimindo os warnings temporariamente\n",
    "warnings.filterwarnings(\"ignore\", category=FutureWarning)"
   ]
  },
  {
   "cell_type": "code",
   "execution_count": 2,
   "id": "e17b60c3",
   "metadata": {},
   "outputs": [],
   "source": [
    "# CONSTANTS\n",
    "DELAY = 3\n",
    "SEASON_RANGE = list(range(2023, 2021, -1))\n",
    "COMP = \"Premier-League\" # IMPORTANTE (A URL ABAIXO ESTÁ DINAMICAMENTE PEGANDO ESSA CONSTANTE)\n",
    "URL = f\"https://fbref.com/en/comps/9/{COMP}-Stats\" # URL constante (usada como base) da premier league, alterar para o Brasileirão, se necessário"
   ]
  },
  {
   "cell_type": "code",
   "execution_count": 3,
   "id": "9cd91fcb-43bd-426a-bea0-8fbf5f0c1aa2",
   "metadata": {},
   "outputs": [],
   "source": [
    "url = URL # url não constante, pois será alterada ao longo do fluxo"
   ]
  },
  {
   "cell_type": "code",
   "execution_count": 4,
   "id": "cae19828",
   "metadata": {},
   "outputs": [],
   "source": [
    "def create_player_id(row):\n",
    "    player_name = row['Player']\n",
    "    age = row['Age']\n",
    "    nation = row['Nation']\n",
    "    \n",
    "    # Concatenar informações únicas\n",
    "    player_info = f\"{player_name}_{age}_{nation}\"\n",
    "    \n",
    "    # Calcular o hash MD5 para criar um ID único\n",
    "    player_id = hashlib.md5(player_info.encode()).hexdigest()\n",
    "    \n",
    "    return player_id\n",
    "\n",
    "def create_team_id(row):\n",
    "    team_name = row['Team']\n",
    "    \n",
    "    # Concatenar informações únicas\n",
    "    team_info = f\"{team_name}\"\n",
    "    \n",
    "    # Calcular o hash MD5 para criar um ID único\n",
    "    player_id = hashlib.md5(team_info.encode()).hexdigest()\n",
    "    \n",
    "    return player_id"
   ]
  },
  {
   "cell_type": "markdown",
   "id": "d208482b",
   "metadata": {},
   "source": [
    "**VAMOS CAPTURAR AS TABELAS GERAIS DE JOGADORES E TIMES** "
   ]
  },
  {
   "cell_type": "markdown",
   "id": "ae27cb45",
   "metadata": {},
   "source": [
    "*1 - CAPTURANDO A TABELA DE INFORMAÇÕES GERAIS DOS JOGADORES (Standard Stats)*"
   ]
  },
  {
   "cell_type": "code",
   "execution_count": 5,
   "id": "09e4700b",
   "metadata": {},
   "outputs": [],
   "source": [
    "teams_players_data_table = []\n",
    "players_table = []\n",
    "players_performance = []\n",
    "\n",
    "for year in SEASON_RANGE:\n",
    "    data = requests.get(url) # Faz um request em toda a url\n",
    "    soup = BeautifulSoup(data.text) # Retorna o texto html do retorno\n",
    "    table = soup.select('table.stats_table')[0] # Coletamos a primeira tabela\n",
    " \n",
    "    links = table.find_all('a') # Capturamos todas as ancoras presentes nessa tabela\n",
    "    links = [l.get(\"href\") for l in links] # Capturamos somente os links\n",
    "    links = [l for l in links if '/squads/' in l] # Pegamos somente os links que possui \"/SQUADS/\" no meio, pois como capturamos todas as ancoras na tabela, tem outros links irrelevantes presentes\n",
    "    team_urls = [f\"https://fbref.com{l}\" for l in links] # Criamos uma lista com os links já estruturados para cada time\n",
    "    \n",
    "    previous_season = soup.select(\"#meta > div:nth-child(2) > div\")[0].find('a').get(\"href\") # Capturamos o link da season anterior\n",
    "    url = f\"https://fbref.com{previous_season}\" # Capturamos o link da season anterior\n",
    "    \n",
    "    # Obtém os dados da página de cada time\n",
    "    for team_url in team_urls:\n",
    "        response = requests.get(team_url)\n",
    "\n",
    "        try:\n",
    "            # Extrai os dados da tabela \"Standard Stats\" em forma de dataframe\n",
    "            team_player_data = pd.read_html(response.text, match=\"Standard Stats\")[0]\n",
    "\n",
    "            team_player_data.columns = team_player_data.columns.droplevel() # Dropamos a primeira coluna\n",
    "            colunas_para_dropar = ['xG', 'npxG', 'xAG', 'npxG+xAG', 'G+A-PK', 'Matches','xG+xAG']\n",
    "            team_player_data = team_player_data.loc[:, ~team_player_data.columns.duplicated(keep='first')]\n",
    "            for coluna in colunas_para_dropar:\n",
    "                # Verifica se a coluna está presente no dataframe antes de tentar removê-la\n",
    "                if coluna in team_player_data.columns:\n",
    "                    team_player_data.drop(columns=coluna, inplace=True)\n",
    "        \n",
    "            team_name = team_url.split(\"/\")[-1].replace(\"-Stats\", \"\").replace(\"-\", \" \") # Pegamos o nome do time através da url\n",
    "            season = team_url.split(\"/\")[-2][:9] if year != 2023 else '2022-2023' # Pegamos a temporada através da url\n",
    "            \n",
    "            # Criações de features (Colunas)\n",
    "            team_player_data[\"Season\"] = season\n",
    "            team_player_data[\"Team\"] = team_name\n",
    "            team_player_data[\"Comp\"] = COMP\n",
    "            team_player_data[\"player_id\"] = team_player_data.apply(create_player_id, axis=1)\n",
    "\n",
    "            # Tratando algumas features\n",
    "            column_rename = {\"MP\":\"Matches Played\",\"Starts\":\"Games started\", \"Min\":\"Minutes played\", \"90s\":\"Games without leave\", \"Gls\":\"Goals\", \"Ast\":\"Assists\", \"G+A\":\"Goals + Assists\", \"G-PK\":\"Non-Penalty Goals\", \"PK\":\"Penalty kicks made\", \"PKatt\":\"Penalty kicks attempted\", \"CrdY\":\"Yellow cards\", \"CrdR\":\"Red cards\", \"PrgC\":\"Progressive Carries\", \"PrgP\":\"Progressive Passes\", \"PrgR\":\"Progressive passes rec\"}\n",
    "            team_player_data.rename(columns=column_rename, inplace=True)\n",
    "            \n",
    "            # Adiciona os dados à lista de resultados\n",
    "            teams_players_data_table.append(team_player_data)\n",
    "            players_performance.append(team_player_data.loc[:, ~team_player_data.columns.isin(['Player', 'Nation', 'Age'])])\n",
    "            players_table.append(team_player_data[['player_id','Player','Nation','Age']])\n",
    "\n",
    "        except Exception as e:\n",
    "            print(f\"\"\"A solicitação para {team_url} falhou.\n",
    "                  Erro: {e} \\n\n",
    "                  código de status: {response.status_code}\"\"\")\n",
    "            \n",
    "        time.sleep(DELAY)"
   ]
  },
  {
   "cell_type": "code",
   "execution_count": 6,
   "id": "8203c8e9",
   "metadata": {},
   "outputs": [],
   "source": [
    "url = URL # reset na url que está modificada devido ao script acima"
   ]
  },
  {
   "cell_type": "markdown",
   "id": "8a439c58",
   "metadata": {},
   "source": [
    "*2 - CAPTURANDO A TABELA DE INFORMAÇÃO GERAL DOS TIMES (Scores and Fixtures)*"
   ]
  },
  {
   "cell_type": "code",
   "execution_count": null,
   "id": "0aa14041",
   "metadata": {},
   "outputs": [],
   "source": [
    "teams_data_table = []\n",
    "matches_table = []\n",
    "\n",
    "for year in SEASON_RANGE:\n",
    "    data = requests.get(url)\n",
    "    soup = BeautifulSoup(data.text)\n",
    "    table = soup.select('table.stats_table')[0]\n",
    "\n",
    "    links = [l.get(\"href\") for l in table.find_all('a')]\n",
    "    links = [l for l in links if '/squads/' in l]\n",
    "    team_urls = [f\"https://fbref.com{l}\" for l in links]\n",
    "    \n",
    "    previous_season = soup.select(\"#meta > div:nth-child(2) > div\")[0].find('a').get(\"href\")\n",
    "    url = f\"https://fbref.com{previous_season}\"\n",
    "    \n",
    "    # Obtém os dados da página de cada time\n",
    "    for team_url in team_urls:\n",
    "        response = requests.get(team_url)\n",
    "\n",
    "        # Verifica se a solicitação foi bem-sucedida\n",
    "        try:\n",
    "            # Extrai os dados da segunda tabela \"Scores and Fixtures\" em forma de dataframe\n",
    "            team_data = pd.read_html(response.text, match=\"Scores & Fixtures\")[0]\n",
    "        \n",
    "            team_name = team_url.split(\"/\")[-1].replace(\"-Stats\", \"\").replace(\"-\", \" \") # Pegamos o nome do time através da url\n",
    "            season = team_url.split(\"/\")[-2][:9] if year != 2023 else '2022-2023' # Pegamos a temporada através da url\n",
    "\n",
    "            # Criações de features (colunas)\n",
    "            team_data[\"Season\"] = season\n",
    "            team_data[\"Team\"] = team_name\n",
    "            team_data[\"team_id\"] = team_data.apply(create_team_id, axis=1)\n",
    "\n",
    "            # Adiciona os dados à lista \"teams_data_table\"\n",
    "            teams_data_table.append(team_data)\n",
    "            matches_table.append(team_data.loc[:, ~team_data.columns.isin(['xG', 'xGA', 'Age','Notes','Match Report'])].rename(columns={\"GF\":\"Goals for\", \"GA\":\"Goals against\"}))\n",
    "\n",
    "        except Exception as e:\n",
    "            print(f\"\"\"A solicitação para {team_url} falhou.\n",
    "                  Erro: {e} \\n\n",
    "                  código de status: {response.status_code}\"\"\")\n",
    "            \n",
    "        time.sleep(DELAY)"
   ]
  },
  {
   "cell_type": "markdown",
   "id": "cac6e9f5",
   "metadata": {},
   "source": [
    "***PARA VISUALIZAR AS TABELAS***"
   ]
  },
  {
   "cell_type": "code",
   "execution_count": null,
   "id": "a29953e4",
   "metadata": {},
   "outputs": [],
   "source": [
    "pd.set_option('display.max_columns', None)"
   ]
  },
  {
   "cell_type": "code",
   "execution_count": null,
   "id": "8b4a160f",
   "metadata": {},
   "outputs": [],
   "source": [
    "players_table[0].head()"
   ]
  },
  {
   "cell_type": "code",
   "execution_count": null,
   "id": "0e1f3830",
   "metadata": {},
   "outputs": [],
   "source": [
    "players_performance[0].head()"
   ]
  },
  {
   "cell_type": "code",
   "execution_count": null,
   "id": "d6434f1f",
   "metadata": {},
   "outputs": [],
   "source": [
    "matches_table[0].head()"
   ]
  },
  {
   "cell_type": "code",
   "execution_count": 8,
   "id": "d22ce19c",
   "metadata": {},
   "outputs": [],
   "source": [
    "dict_players_performance = []\n",
    "for dataframe in players_performance:\n",
    "    dict_players_performance.append(dataframe.to_dict(orient=\"records\"))\n",
    "\n",
    "dict_players_table = []\n",
    "for dataframe in players_table:\n",
    "    dict_players_table.append(dataframe.to_dict(orient=\"records\"))\n",
    "    \n",
    "dict_matchs_table = []\n",
    "for dataframe in matches_table:\n",
    "    dict_matchs_table.append(dataframe.to_dict(orient=\"records\"))"
   ]
  },
  {
   "cell_type": "code",
   "execution_count": 10,
   "id": "0e7bcac8",
   "metadata": {},
   "outputs": [],
   "source": [
    "from database import create_documents"
   ]
  },
  {
   "cell_type": "code",
   "execution_count": 11,
   "id": "7ac9b7a4",
   "metadata": {},
   "outputs": [],
   "source": [
    "for player_performance in dict_players_performance:\n",
    "    documents = create_documents('players_performance', player_performance)\n",
    "    \n",
    "for player in dict_players_table:\n",
    "    documents = create_documents('players', player)\n",
    "    \n",
    "for match in dict_matchs_table:\n",
    "    documents = create_documents('matches', match)"
   ]
  }
 ],
 "metadata": {
  "kernelspec": {
   "display_name": "Python 3 (ipykernel)",
   "language": "python",
   "name": "python3"
  },
  "language_info": {
   "codemirror_mode": {
    "name": "ipython",
    "version": 3
   },
   "file_extension": ".py",
   "mimetype": "text/x-python",
   "name": "python",
   "nbconvert_exporter": "python",
   "pygments_lexer": "ipython3",
   "version": "3.12.0"
  }
 },
 "nbformat": 4,
 "nbformat_minor": 5
}
