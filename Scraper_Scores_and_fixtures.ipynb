{
 "cells": [
  {
   "cell_type": "code",
   "execution_count": 1,
   "id": "c6bfd871-93e9-4146-bb46-97b54a7190a2",
   "metadata": {},
   "outputs": [],
   "source": [
    "import requests\n",
    "from bs4 import BeautifulSoup\n",
    "import pandas as pd\n",
    "import time\n",
    "import warnings\n",
    "\n",
    "# Suprimindo os warnings temporariamente\n",
    "warnings.filterwarnings(\"ignore\", category=FutureWarning)"
   ]
  },
  {
   "cell_type": "code",
   "execution_count": 2,
   "id": "e17b60c3",
   "metadata": {},
   "outputs": [],
   "source": [
    "# CONSTANTS\n",
    "DELAY = 3\n",
    "SEASON_RANGE = list(range(2023, 2015, -1))\n",
    "URL = f\"https://fbref.com/en/comps/12/La-Liga-Stats\" # URL constante (usada como base) da premier league, alterar para o Brasileirão, se necessário"
   ]
  },
  {
   "cell_type": "code",
   "execution_count": 3,
   "id": "9cd91fcb-43bd-426a-bea0-8fbf5f0c1aa2",
   "metadata": {},
   "outputs": [],
   "source": [
    "url = URL # url não constante, pois será alterada ao longo do fluxo"
   ]
  },
  {
   "cell_type": "markdown",
   "id": "8a439c58",
   "metadata": {},
   "source": [
    "*2 - CAPTURANDO A TABELA DE INFORMAÇÃO GERAL DOS TIMES (Scores and Fixtures)*"
   ]
  },
  {
   "cell_type": "code",
   "execution_count": 4,
   "id": "0aa14041",
   "metadata": {},
   "outputs": [
    {
     "name": "stdout",
     "output_type": "stream",
     "text": [
      "A solicitação para https://fbref.com/en/squads/fc536746/2018-2019/Real-Betis-Stats falhou.\n",
      "                  Erro: No tables found \n",
      "\n",
      "                  código de status: 500\n"
     ]
    }
   ],
   "source": [
    "teams_data_table = []\n",
    "matches_table = []\n",
    "\n",
    "for year in SEASON_RANGE:\n",
    "    data = requests.get(url)\n",
    "    soup = BeautifulSoup(data.text)\n",
    "    table = soup.select('table.stats_table')[0]\n",
    "\n",
    "    links = [l.get(\"href\") for l in table.find_all('a')]\n",
    "    links = [l for l in links if '/squads/' in l]\n",
    "    team_urls = [f\"https://fbref.com{l}\" for l in links]\n",
    "    \n",
    "    previous_season = soup.select(\"#meta > div:nth-child(2) > div\")[0].find('a').get(\"href\")\n",
    "    url = f\"https://fbref.com{previous_season}\"\n",
    "    \n",
    "    # Obtém os dados da página de cada time\n",
    "    for team_url in team_urls:\n",
    "        response = requests.get(team_url)\n",
    "\n",
    "        # Verifica se a solicitação foi bem-sucedida\n",
    "        try:\n",
    "            # Extrai os dados da segunda tabela \"Scores and Fixtures\" em forma de dataframe\n",
    "            team_data = pd.read_html(response.text, match=\"Scores & Fixtures\")[0]\n",
    "        \n",
    "            team_name = team_url.split(\"/\")[-1].replace(\"-Stats\", \"\").replace(\"-\", \" \") # Pegamos o nome do time através da url\n",
    "            season = team_url.split(\"/\")[-2][:9] if year != 2023 else '2022-2023' # Pegamos a temporada através da url\n",
    "\n",
    "            # Criações de features (colunas)\n",
    "            team_data[\"Season\"] = season\n",
    "            team_data[\"Team\"] = team_name\n",
    "\n",
    "            # Adiciona os dados à lista \"teams_data_table\"\n",
    "            teams_data_table.append(team_data)\n",
    "            matches_table.append(team_data.loc[:, ~team_data.columns.isin(['xG', 'xGA', 'Age','Notes','Match Report'])].rename(columns={\"GF\":\"Goals for\", \"GA\":\"Goals against\"}))\n",
    "\n",
    "        except Exception as e:\n",
    "            print(f\"\"\"A solicitação para {team_url} falhou.\n",
    "                  Erro: {e} \\n\n",
    "                  código de status: {response.status_code}\"\"\")\n",
    "            \n",
    "        time.sleep(DELAY)"
   ]
  },
  {
   "cell_type": "markdown",
   "id": "cac6e9f5",
   "metadata": {},
   "source": [
    "***PARA VISUALIZAR AS TABELAS***"
   ]
  },
  {
   "cell_type": "code",
   "execution_count": 5,
   "id": "a29953e4",
   "metadata": {},
   "outputs": [],
   "source": [
    "pd.set_option('display.max_columns', None)"
   ]
  },
  {
   "cell_type": "code",
   "execution_count": 6,
   "id": "d22ce19c",
   "metadata": {},
   "outputs": [],
   "source": [
    "  \n",
    "dict_matchs_table = []\n",
    "for dataframe in matches_table:\n",
    "    dict_matchs_table.append(dataframe.to_dict(orient=\"records\"))"
   ]
  },
  {
   "cell_type": "code",
   "execution_count": 7,
   "id": "0e7bcac8",
   "metadata": {},
   "outputs": [],
   "source": [
    "from database import create_documents"
   ]
  },
  {
   "cell_type": "code",
   "execution_count": 8,
   "id": "7ac9b7a4",
   "metadata": {},
   "outputs": [],
   "source": [
    "for match in dict_matchs_table:\n",
    "    documents = create_documents('matches', match)"
   ]
  }
 ],
 "metadata": {
  "kernelspec": {
   "display_name": "Python 3 (ipykernel)",
   "language": "python",
   "name": "python3"
  },
  "language_info": {
   "codemirror_mode": {
    "name": "ipython",
    "version": 3
   },
   "file_extension": ".py",
   "mimetype": "text/x-python",
   "name": "python",
   "nbconvert_exporter": "python",
   "pygments_lexer": "ipython3",
   "version": "3.12.0"
  }
 },
 "nbformat": 4,
 "nbformat_minor": 5
}
